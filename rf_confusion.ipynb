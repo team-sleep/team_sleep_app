{
 "cells": [
  {
   "cell_type": "code",
   "execution_count": 10,
   "id": "97d580f3-d994-44f7-ab34-297edd331e3f",
   "metadata": {},
   "outputs": [],
   "source": [
    "import numpy as np\n",
    "import pandas as pd\n",
    "import pickle\n",
    "\n",
    "from sklearn.model_selection import train_test_split\n",
    "from imblearn.under_sampling import RandomUnderSampler"
   ]
  },
  {
   "cell_type": "code",
   "execution_count": 2,
   "id": "4fd19b47-77de-43c5-a0e0-2b032fe58e9f",
   "metadata": {},
   "outputs": [
    {
     "name": "stderr",
     "output_type": "stream",
     "text": [
      "/opt/anaconda3/lib/python3.8/site-packages/sklearn/base.py:310: UserWarning: Trying to unpickle estimator DecisionTreeClassifier from version 1.0.1 when using version 0.24.2. This might lead to breaking code or invalid results. Use at your own risk.\n",
      "  warnings.warn(\n",
      "/opt/anaconda3/lib/python3.8/site-packages/sklearn/base.py:310: UserWarning: Trying to unpickle estimator RandomForestClassifier from version 1.0.1 when using version 0.24.2. This might lead to breaking code or invalid results. Use at your own risk.\n",
      "  warnings.warn(\n",
      "/opt/anaconda3/lib/python3.8/site-packages/sklearn/base.py:310: UserWarning: Trying to unpickle estimator MinMaxScaler from version 1.0.1 when using version 0.24.2. This might lead to breaking code or invalid results. Use at your own risk.\n",
      "  warnings.warn(\n"
     ]
    }
   ],
   "source": [
    "# loading the trained model\n",
    "pickle_rf = open('classifier_rf.pkl', 'rb') \n",
    "clf_rf = pickle.load(pickle_rf)\n",
    "\n",
    "pickle_scaler = open('scaler_5.pkl', 'rb') \n",
    "scaler_5 = pickle.load(pickle_scaler)"
   ]
  },
  {
   "cell_type": "code",
   "execution_count": 3,
   "id": "5442391f-90ef-45c0-8ee0-777be4add08f",
   "metadata": {},
   "outputs": [],
   "source": [
    "scaled_df = pd.read_csv('modeling_dataset_vScaled.csv', index_col=0)"
   ]
  },
  {
   "cell_type": "code",
   "execution_count": 4,
   "id": "161e1a8b-0e5b-4b30-8790-bd940a78eb64",
   "metadata": {},
   "outputs": [],
   "source": [
    "target_alt = 'final_phys_diagn_alt'\n",
    "\n",
    "filter_1 = scaled_df[target_alt] != 'srbd_multiple'\n",
    "filter_2 = scaled_df[target_alt] != 'multiple'\n",
    "filter_3 = scaled_df[target_alt] != 'other'\n",
    "\n",
    "scaled_df = scaled_df[filter_1 & filter_2]\n",
    "scaled_df[target_alt] = scaled_df[target_alt].where(scaled_df[target_alt] == 'srbd_apnea', 'non_apnea')"
   ]
  },
  {
   "cell_type": "code",
   "execution_count": 5,
   "id": "a33f48a2-e2cc-47f7-86a8-3da59b3888c1",
   "metadata": {},
   "outputs": [],
   "source": [
    "asq_imp = pd.read_csv('top30_lgbm.csv', index_col=0)\n",
    "imp_feat = asq_imp.columns"
   ]
  },
  {
   "cell_type": "code",
   "execution_count": 6,
   "id": "1e27c692-6266-403b-8960-4c666f97341d",
   "metadata": {},
   "outputs": [
    {
     "data": {
      "text/plain": [
       "non_apnea     326\n",
       "srbd_apnea    326\n",
       "Name: final_phys_diagn_alt, dtype: int64"
      ]
     },
     "execution_count": 6,
     "metadata": {},
     "output_type": "execute_result"
    }
   ],
   "source": [
    "X_train, X_test, y_train, y_test = train_test_split(scaled_df[imp_feat], scaled_df[target_alt], test_size=0.2, random_state=2021)\n",
    "undersample = RandomUnderSampler(random_state=2021)\n",
    "X_train, y_train = undersample.fit_resample(X_train, y_train)\n",
    "y_train.value_counts()"
   ]
  },
  {
   "cell_type": "code",
   "execution_count": 8,
   "id": "bffffb29-3cd6-43d0-a731-53facf8358c2",
   "metadata": {},
   "outputs": [],
   "source": [
    "knn_pred = clf_rf.predict(X_test[imp_feat[:5]])\n",
    "conf = pd.crosstab(y_test, knn_pred, rownames=['True'], colnames=['Predicted'], margins=True).T"
   ]
  },
  {
   "cell_type": "code",
   "execution_count": 14,
   "id": "208fac2f-1005-412d-ae81-9ea6988112ae",
   "metadata": {},
   "outputs": [],
   "source": [
    "conf.to_csv('rf_confusion.csv')"
   ]
  }
 ],
 "metadata": {
  "kernelspec": {
   "display_name": "Python 3 (ipykernel)",
   "language": "python",
   "name": "python3"
  },
  "language_info": {
   "codemirror_mode": {
    "name": "ipython",
    "version": 3
   },
   "file_extension": ".py",
   "mimetype": "text/x-python",
   "name": "python",
   "nbconvert_exporter": "python",
   "pygments_lexer": "ipython3",
   "version": "3.8.8"
  }
 },
 "nbformat": 4,
 "nbformat_minor": 5
}
